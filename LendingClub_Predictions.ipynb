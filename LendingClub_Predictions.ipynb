{
  "nbformat": 4,
  "nbformat_minor": 0,
  "metadata": {
    "colab": {
      "name": "LendingClub Predictions.ipynb",
      "provenance": [],
      "collapsed_sections": [],
      "toc_visible": true,
      "authorship_tag": "ABX9TyN+hicJTcZu+4BhFf1aU4vq",
      "include_colab_link": true
    },
    "kernelspec": {
      "name": "python3",
      "display_name": "Python 3"
    }
  },
  "cells": [
    {
      "cell_type": "markdown",
      "metadata": {
        "id": "view-in-github",
        "colab_type": "text"
      },
      "source": [
        "<a href=\"https://colab.research.google.com/github/JudeDihan/Predicting-Good-LendingClub-Investments/blob/master/LendingClub_Predictions.ipynb\" target=\"_parent\"><img src=\"https://colab.research.google.com/assets/colab-badge.svg\" alt=\"Open In Colab\"/></a>"
      ]
    },
    {
      "cell_type": "markdown",
      "metadata": {
        "id": "iyz2OMHkOFBm",
        "colab_type": "text"
      },
      "source": [
        "# 1. Introduction and Data Cleaning"
      ]
    },
    {
      "cell_type": "markdown",
      "metadata": {
        "id": "Pmirsp076uNd",
        "colab_type": "text"
      },
      "source": [
        "### Introduction"
      ]
    },
    {
      "cell_type": "markdown",
      "metadata": {
        "id": "1vvkk9w260Il",
        "colab_type": "text"
      },
      "source": [
        "Lending Club (www.lendingclub.com) is an American peer-to-peer lending company. People could submit an application for a loan, and after Lending Club decides if they could pay back the loan, they let interested investors know and invite them to invest in the loan. \n",
        "The investors are given information about the person asking for th loan, and based on that information, they can decide whether or not it is a worthy investment. Investors gain profit from borrowers that pay the amount in full within the agreed time duration.\n",
        "\n",
        "This project attempts to help the investors make financially safe decisions when it comes to choosing an investment. This is done using the data released from Lending Club for the years 2007 through 2011 in harmony with Machine Learning models. \n",
        "\n",
        "The dataset and it's dictionary can be found here: https://data.world/jaypeedevlin/lending-club-loan-data-2007-11"
      ]
    },
    {
      "cell_type": "markdown",
      "metadata": {
        "id": "nmmpjwIJOSeW",
        "colab_type": "text"
      },
      "source": [
        "### Importing the libraries and dataset."
      ]
    },
    {
      "cell_type": "code",
      "metadata": {
        "id": "XeIOMmYrN8H9",
        "colab_type": "code",
        "colab": {}
      },
      "source": [
        "import pandas as pd\n",
        "import numpy as np"
      ],
      "execution_count": 1,
      "outputs": []
    },
    {
      "cell_type": "code",
      "metadata": {
        "id": "Hy11zPwzQEAz",
        "colab_type": "code",
        "colab": {
          "base_uri": "https://localhost:8080/",
          "height": 34
        },
        "outputId": "472bb1fc-1110-4e13-cd19-417fbb353592"
      },
      "source": [
        "loans_0711 = pd.read_csv(\"lending_club_loans.csv\", skiprows=1, low_memory=False)\n",
        "print('Shape of DataFrame =',loans_0711.shape)"
      ],
      "execution_count": 2,
      "outputs": [
        {
          "output_type": "stream",
          "text": [
            "Shape of DataFrame = (42538, 115)\n"
          ],
          "name": "stdout"
        }
      ]
    },
    {
      "cell_type": "code",
      "metadata": {
        "id": "Q_4K_U3kskSi",
        "colab_type": "code",
        "colab": {}
      },
      "source": [
        "pd.set_option('max_columns', 150)\n",
        "pd.set_option('max_rows', 150)"
      ],
      "execution_count": 3,
      "outputs": []
    },
    {
      "cell_type": "markdown",
      "metadata": {
        "id": "y_IC5Jg6sPs1",
        "colab_type": "text"
      },
      "source": [
        "Let's take a brief look at the dataset"
      ]
    },
    {
      "cell_type": "code",
      "metadata": {
        "id": "eymHy4uFr6jW",
        "colab_type": "code",
        "colab": {
          "base_uri": "https://localhost:8080/",
          "height": 400
        },
        "outputId": "b4c2c2cb-66ae-413c-aa2d-b8c286ddf919"
      },
      "source": [
        "loans_0711.head(3)"
      ],
      "execution_count": 4,
      "outputs": [
        {
          "output_type": "execute_result",
          "data": {
            "text/html": [
              "<div>\n",
              "<style scoped>\n",
              "    .dataframe tbody tr th:only-of-type {\n",
              "        vertical-align: middle;\n",
              "    }\n",
              "\n",
              "    .dataframe tbody tr th {\n",
              "        vertical-align: top;\n",
              "    }\n",
              "\n",
              "    .dataframe thead th {\n",
              "        text-align: right;\n",
              "    }\n",
              "</style>\n",
              "<table border=\"1\" class=\"dataframe\">\n",
              "  <thead>\n",
              "    <tr style=\"text-align: right;\">\n",
              "      <th></th>\n",
              "      <th>id</th>\n",
              "      <th>member_id</th>\n",
              "      <th>loan_amnt</th>\n",
              "      <th>funded_amnt</th>\n",
              "      <th>funded_amnt_inv</th>\n",
              "      <th>term</th>\n",
              "      <th>int_rate</th>\n",
              "      <th>installment</th>\n",
              "      <th>grade</th>\n",
              "      <th>sub_grade</th>\n",
              "      <th>emp_title</th>\n",
              "      <th>emp_length</th>\n",
              "      <th>home_ownership</th>\n",
              "      <th>annual_inc</th>\n",
              "      <th>verification_status</th>\n",
              "      <th>issue_d</th>\n",
              "      <th>loan_status</th>\n",
              "      <th>pymnt_plan</th>\n",
              "      <th>url</th>\n",
              "      <th>desc</th>\n",
              "      <th>purpose</th>\n",
              "      <th>title</th>\n",
              "      <th>zip_code</th>\n",
              "      <th>addr_state</th>\n",
              "      <th>dti</th>\n",
              "      <th>delinq_2yrs</th>\n",
              "      <th>earliest_cr_line</th>\n",
              "      <th>fico_range_low</th>\n",
              "      <th>fico_range_high</th>\n",
              "      <th>inq_last_6mths</th>\n",
              "      <th>mths_since_last_delinq</th>\n",
              "      <th>mths_since_last_record</th>\n",
              "      <th>open_acc</th>\n",
              "      <th>pub_rec</th>\n",
              "      <th>revol_bal</th>\n",
              "      <th>revol_util</th>\n",
              "      <th>total_acc</th>\n",
              "      <th>initial_list_status</th>\n",
              "      <th>out_prncp</th>\n",
              "      <th>out_prncp_inv</th>\n",
              "      <th>total_pymnt</th>\n",
              "      <th>total_pymnt_inv</th>\n",
              "      <th>total_rec_prncp</th>\n",
              "      <th>total_rec_int</th>\n",
              "      <th>total_rec_late_fee</th>\n",
              "      <th>recoveries</th>\n",
              "      <th>collection_recovery_fee</th>\n",
              "      <th>last_pymnt_d</th>\n",
              "      <th>last_pymnt_amnt</th>\n",
              "      <th>next_pymnt_d</th>\n",
              "      <th>last_credit_pull_d</th>\n",
              "      <th>last_fico_range_high</th>\n",
              "      <th>last_fico_range_low</th>\n",
              "      <th>collections_12_mths_ex_med</th>\n",
              "      <th>mths_since_last_major_derog</th>\n",
              "      <th>policy_code</th>\n",
              "      <th>application_type</th>\n",
              "      <th>annual_inc_joint</th>\n",
              "      <th>dti_joint</th>\n",
              "      <th>verification_status_joint</th>\n",
              "      <th>acc_now_delinq</th>\n",
              "      <th>tot_coll_amt</th>\n",
              "      <th>tot_cur_bal</th>\n",
              "      <th>open_acc_6m</th>\n",
              "      <th>open_il_6m</th>\n",
              "      <th>open_il_12m</th>\n",
              "      <th>open_il_24m</th>\n",
              "      <th>mths_since_rcnt_il</th>\n",
              "      <th>total_bal_il</th>\n",
              "      <th>il_util</th>\n",
              "      <th>open_rv_12m</th>\n",
              "      <th>open_rv_24m</th>\n",
              "      <th>max_bal_bc</th>\n",
              "      <th>all_util</th>\n",
              "      <th>total_rev_hi_lim</th>\n",
              "      <th>inq_fi</th>\n",
              "      <th>total_cu_tl</th>\n",
              "      <th>inq_last_12m</th>\n",
              "      <th>acc_open_past_24mths</th>\n",
              "      <th>avg_cur_bal</th>\n",
              "      <th>bc_open_to_buy</th>\n",
              "      <th>bc_util</th>\n",
              "      <th>chargeoff_within_12_mths</th>\n",
              "      <th>delinq_amnt</th>\n",
              "      <th>mo_sin_old_il_acct</th>\n",
              "      <th>mo_sin_old_rev_tl_op</th>\n",
              "      <th>mo_sin_rcnt_rev_tl_op</th>\n",
              "      <th>mo_sin_rcnt_tl</th>\n",
              "      <th>mort_acc</th>\n",
              "      <th>mths_since_recent_bc</th>\n",
              "      <th>mths_since_recent_bc_dlq</th>\n",
              "      <th>mths_since_recent_inq</th>\n",
              "      <th>mths_since_recent_revol_delinq</th>\n",
              "      <th>num_accts_ever_120_pd</th>\n",
              "      <th>num_actv_bc_tl</th>\n",
              "      <th>num_actv_rev_tl</th>\n",
              "      <th>num_bc_sats</th>\n",
              "      <th>num_bc_tl</th>\n",
              "      <th>num_il_tl</th>\n",
              "      <th>num_op_rev_tl</th>\n",
              "      <th>num_rev_accts</th>\n",
              "      <th>num_rev_tl_bal_gt_0</th>\n",
              "      <th>num_sats</th>\n",
              "      <th>num_tl_120dpd_2m</th>\n",
              "      <th>num_tl_30dpd</th>\n",
              "      <th>num_tl_90g_dpd_24m</th>\n",
              "      <th>num_tl_op_past_12m</th>\n",
              "      <th>pct_tl_nvr_dlq</th>\n",
              "      <th>percent_bc_gt_75</th>\n",
              "      <th>pub_rec_bankruptcies</th>\n",
              "      <th>tax_liens</th>\n",
              "      <th>tot_hi_cred_lim</th>\n",
              "      <th>total_bal_ex_mort</th>\n",
              "      <th>total_bc_limit</th>\n",
              "      <th>total_il_high_credit_limit</th>\n",
              "    </tr>\n",
              "  </thead>\n",
              "  <tbody>\n",
              "    <tr>\n",
              "      <th>0</th>\n",
              "      <td>1077501</td>\n",
              "      <td>1296599.0</td>\n",
              "      <td>5000.0</td>\n",
              "      <td>5000.0</td>\n",
              "      <td>4975.0</td>\n",
              "      <td>36 months</td>\n",
              "      <td>10.65%</td>\n",
              "      <td>162.87</td>\n",
              "      <td>B</td>\n",
              "      <td>B2</td>\n",
              "      <td>NaN</td>\n",
              "      <td>10+ years</td>\n",
              "      <td>RENT</td>\n",
              "      <td>24000.0</td>\n",
              "      <td>Verified</td>\n",
              "      <td>Dec-2011</td>\n",
              "      <td>Fully Paid</td>\n",
              "      <td>n</td>\n",
              "      <td>https://lendingclub.com/browse/loanDetail.acti...</td>\n",
              "      <td>Borrower added on 12/22/11 &gt; I need to upgra...</td>\n",
              "      <td>credit_card</td>\n",
              "      <td>Computer</td>\n",
              "      <td>860xx</td>\n",
              "      <td>AZ</td>\n",
              "      <td>27.65</td>\n",
              "      <td>0.0</td>\n",
              "      <td>Jan-1985</td>\n",
              "      <td>735.0</td>\n",
              "      <td>739.0</td>\n",
              "      <td>1.0</td>\n",
              "      <td>NaN</td>\n",
              "      <td>NaN</td>\n",
              "      <td>3.0</td>\n",
              "      <td>0.0</td>\n",
              "      <td>13648.0</td>\n",
              "      <td>83.7%</td>\n",
              "      <td>9.0</td>\n",
              "      <td>f</td>\n",
              "      <td>0.0</td>\n",
              "      <td>0.0</td>\n",
              "      <td>5863.155187</td>\n",
              "      <td>5833.84</td>\n",
              "      <td>5000.00</td>\n",
              "      <td>863.16</td>\n",
              "      <td>0.0</td>\n",
              "      <td>0.00</td>\n",
              "      <td>0.00</td>\n",
              "      <td>Jan-2015</td>\n",
              "      <td>171.62</td>\n",
              "      <td>NaN</td>\n",
              "      <td>Sep-2016</td>\n",
              "      <td>744.0</td>\n",
              "      <td>740.0</td>\n",
              "      <td>0.0</td>\n",
              "      <td>NaN</td>\n",
              "      <td>1.0</td>\n",
              "      <td>INDIVIDUAL</td>\n",
              "      <td>NaN</td>\n",
              "      <td>NaN</td>\n",
              "      <td>NaN</td>\n",
              "      <td>0.0</td>\n",
              "      <td>NaN</td>\n",
              "      <td>NaN</td>\n",
              "      <td>NaN</td>\n",
              "      <td>NaN</td>\n",
              "      <td>NaN</td>\n",
              "      <td>NaN</td>\n",
              "      <td>NaN</td>\n",
              "      <td>NaN</td>\n",
              "      <td>NaN</td>\n",
              "      <td>NaN</td>\n",
              "      <td>NaN</td>\n",
              "      <td>NaN</td>\n",
              "      <td>NaN</td>\n",
              "      <td>NaN</td>\n",
              "      <td>NaN</td>\n",
              "      <td>NaN</td>\n",
              "      <td>NaN</td>\n",
              "      <td>NaN</td>\n",
              "      <td>NaN</td>\n",
              "      <td>NaN</td>\n",
              "      <td>NaN</td>\n",
              "      <td>0.0</td>\n",
              "      <td>0.0</td>\n",
              "      <td>NaN</td>\n",
              "      <td>NaN</td>\n",
              "      <td>NaN</td>\n",
              "      <td>NaN</td>\n",
              "      <td>NaN</td>\n",
              "      <td>NaN</td>\n",
              "      <td>NaN</td>\n",
              "      <td>NaN</td>\n",
              "      <td>NaN</td>\n",
              "      <td>NaN</td>\n",
              "      <td>NaN</td>\n",
              "      <td>NaN</td>\n",
              "      <td>NaN</td>\n",
              "      <td>NaN</td>\n",
              "      <td>NaN</td>\n",
              "      <td>NaN</td>\n",
              "      <td>NaN</td>\n",
              "      <td>NaN</td>\n",
              "      <td>NaN</td>\n",
              "      <td>NaN</td>\n",
              "      <td>NaN</td>\n",
              "      <td>NaN</td>\n",
              "      <td>NaN</td>\n",
              "      <td>NaN</td>\n",
              "      <td>NaN</td>\n",
              "      <td>0.0</td>\n",
              "      <td>0.0</td>\n",
              "      <td>NaN</td>\n",
              "      <td>NaN</td>\n",
              "      <td>NaN</td>\n",
              "      <td>NaN</td>\n",
              "    </tr>\n",
              "    <tr>\n",
              "      <th>1</th>\n",
              "      <td>1077430</td>\n",
              "      <td>1314167.0</td>\n",
              "      <td>2500.0</td>\n",
              "      <td>2500.0</td>\n",
              "      <td>2500.0</td>\n",
              "      <td>60 months</td>\n",
              "      <td>15.27%</td>\n",
              "      <td>59.83</td>\n",
              "      <td>C</td>\n",
              "      <td>C4</td>\n",
              "      <td>Ryder</td>\n",
              "      <td>&lt; 1 year</td>\n",
              "      <td>RENT</td>\n",
              "      <td>30000.0</td>\n",
              "      <td>Source Verified</td>\n",
              "      <td>Dec-2011</td>\n",
              "      <td>Charged Off</td>\n",
              "      <td>n</td>\n",
              "      <td>https://lendingclub.com/browse/loanDetail.acti...</td>\n",
              "      <td>Borrower added on 12/22/11 &gt; I plan to use t...</td>\n",
              "      <td>car</td>\n",
              "      <td>bike</td>\n",
              "      <td>309xx</td>\n",
              "      <td>GA</td>\n",
              "      <td>1.00</td>\n",
              "      <td>0.0</td>\n",
              "      <td>Apr-1999</td>\n",
              "      <td>740.0</td>\n",
              "      <td>744.0</td>\n",
              "      <td>5.0</td>\n",
              "      <td>NaN</td>\n",
              "      <td>NaN</td>\n",
              "      <td>3.0</td>\n",
              "      <td>0.0</td>\n",
              "      <td>1687.0</td>\n",
              "      <td>9.4%</td>\n",
              "      <td>4.0</td>\n",
              "      <td>f</td>\n",
              "      <td>0.0</td>\n",
              "      <td>0.0</td>\n",
              "      <td>1008.710000</td>\n",
              "      <td>1008.71</td>\n",
              "      <td>456.46</td>\n",
              "      <td>435.17</td>\n",
              "      <td>0.0</td>\n",
              "      <td>117.08</td>\n",
              "      <td>1.11</td>\n",
              "      <td>Apr-2013</td>\n",
              "      <td>119.66</td>\n",
              "      <td>NaN</td>\n",
              "      <td>Sep-2016</td>\n",
              "      <td>499.0</td>\n",
              "      <td>0.0</td>\n",
              "      <td>0.0</td>\n",
              "      <td>NaN</td>\n",
              "      <td>1.0</td>\n",
              "      <td>INDIVIDUAL</td>\n",
              "      <td>NaN</td>\n",
              "      <td>NaN</td>\n",
              "      <td>NaN</td>\n",
              "      <td>0.0</td>\n",
              "      <td>NaN</td>\n",
              "      <td>NaN</td>\n",
              "      <td>NaN</td>\n",
              "      <td>NaN</td>\n",
              "      <td>NaN</td>\n",
              "      <td>NaN</td>\n",
              "      <td>NaN</td>\n",
              "      <td>NaN</td>\n",
              "      <td>NaN</td>\n",
              "      <td>NaN</td>\n",
              "      <td>NaN</td>\n",
              "      <td>NaN</td>\n",
              "      <td>NaN</td>\n",
              "      <td>NaN</td>\n",
              "      <td>NaN</td>\n",
              "      <td>NaN</td>\n",
              "      <td>NaN</td>\n",
              "      <td>NaN</td>\n",
              "      <td>NaN</td>\n",
              "      <td>NaN</td>\n",
              "      <td>NaN</td>\n",
              "      <td>0.0</td>\n",
              "      <td>0.0</td>\n",
              "      <td>NaN</td>\n",
              "      <td>NaN</td>\n",
              "      <td>NaN</td>\n",
              "      <td>NaN</td>\n",
              "      <td>NaN</td>\n",
              "      <td>NaN</td>\n",
              "      <td>NaN</td>\n",
              "      <td>NaN</td>\n",
              "      <td>NaN</td>\n",
              "      <td>NaN</td>\n",
              "      <td>NaN</td>\n",
              "      <td>NaN</td>\n",
              "      <td>NaN</td>\n",
              "      <td>NaN</td>\n",
              "      <td>NaN</td>\n",
              "      <td>NaN</td>\n",
              "      <td>NaN</td>\n",
              "      <td>NaN</td>\n",
              "      <td>NaN</td>\n",
              "      <td>NaN</td>\n",
              "      <td>NaN</td>\n",
              "      <td>NaN</td>\n",
              "      <td>NaN</td>\n",
              "      <td>NaN</td>\n",
              "      <td>NaN</td>\n",
              "      <td>0.0</td>\n",
              "      <td>0.0</td>\n",
              "      <td>NaN</td>\n",
              "      <td>NaN</td>\n",
              "      <td>NaN</td>\n",
              "      <td>NaN</td>\n",
              "    </tr>\n",
              "    <tr>\n",
              "      <th>2</th>\n",
              "      <td>1077175</td>\n",
              "      <td>1313524.0</td>\n",
              "      <td>2400.0</td>\n",
              "      <td>2400.0</td>\n",
              "      <td>2400.0</td>\n",
              "      <td>36 months</td>\n",
              "      <td>15.96%</td>\n",
              "      <td>84.33</td>\n",
              "      <td>C</td>\n",
              "      <td>C5</td>\n",
              "      <td>NaN</td>\n",
              "      <td>10+ years</td>\n",
              "      <td>RENT</td>\n",
              "      <td>12252.0</td>\n",
              "      <td>Not Verified</td>\n",
              "      <td>Dec-2011</td>\n",
              "      <td>Fully Paid</td>\n",
              "      <td>n</td>\n",
              "      <td>https://lendingclub.com/browse/loanDetail.acti...</td>\n",
              "      <td>NaN</td>\n",
              "      <td>small_business</td>\n",
              "      <td>real estate business</td>\n",
              "      <td>606xx</td>\n",
              "      <td>IL</td>\n",
              "      <td>8.72</td>\n",
              "      <td>0.0</td>\n",
              "      <td>Nov-2001</td>\n",
              "      <td>735.0</td>\n",
              "      <td>739.0</td>\n",
              "      <td>2.0</td>\n",
              "      <td>NaN</td>\n",
              "      <td>NaN</td>\n",
              "      <td>2.0</td>\n",
              "      <td>0.0</td>\n",
              "      <td>2956.0</td>\n",
              "      <td>98.5%</td>\n",
              "      <td>10.0</td>\n",
              "      <td>f</td>\n",
              "      <td>0.0</td>\n",
              "      <td>0.0</td>\n",
              "      <td>3005.666844</td>\n",
              "      <td>3005.67</td>\n",
              "      <td>2400.00</td>\n",
              "      <td>605.67</td>\n",
              "      <td>0.0</td>\n",
              "      <td>0.00</td>\n",
              "      <td>0.00</td>\n",
              "      <td>Jun-2014</td>\n",
              "      <td>649.91</td>\n",
              "      <td>NaN</td>\n",
              "      <td>Sep-2016</td>\n",
              "      <td>719.0</td>\n",
              "      <td>715.0</td>\n",
              "      <td>0.0</td>\n",
              "      <td>NaN</td>\n",
              "      <td>1.0</td>\n",
              "      <td>INDIVIDUAL</td>\n",
              "      <td>NaN</td>\n",
              "      <td>NaN</td>\n",
              "      <td>NaN</td>\n",
              "      <td>0.0</td>\n",
              "      <td>NaN</td>\n",
              "      <td>NaN</td>\n",
              "      <td>NaN</td>\n",
              "      <td>NaN</td>\n",
              "      <td>NaN</td>\n",
              "      <td>NaN</td>\n",
              "      <td>NaN</td>\n",
              "      <td>NaN</td>\n",
              "      <td>NaN</td>\n",
              "      <td>NaN</td>\n",
              "      <td>NaN</td>\n",
              "      <td>NaN</td>\n",
              "      <td>NaN</td>\n",
              "      <td>NaN</td>\n",
              "      <td>NaN</td>\n",
              "      <td>NaN</td>\n",
              "      <td>NaN</td>\n",
              "      <td>NaN</td>\n",
              "      <td>NaN</td>\n",
              "      <td>NaN</td>\n",
              "      <td>NaN</td>\n",
              "      <td>0.0</td>\n",
              "      <td>0.0</td>\n",
              "      <td>NaN</td>\n",
              "      <td>NaN</td>\n",
              "      <td>NaN</td>\n",
              "      <td>NaN</td>\n",
              "      <td>NaN</td>\n",
              "      <td>NaN</td>\n",
              "      <td>NaN</td>\n",
              "      <td>NaN</td>\n",
              "      <td>NaN</td>\n",
              "      <td>NaN</td>\n",
              "      <td>NaN</td>\n",
              "      <td>NaN</td>\n",
              "      <td>NaN</td>\n",
              "      <td>NaN</td>\n",
              "      <td>NaN</td>\n",
              "      <td>NaN</td>\n",
              "      <td>NaN</td>\n",
              "      <td>NaN</td>\n",
              "      <td>NaN</td>\n",
              "      <td>NaN</td>\n",
              "      <td>NaN</td>\n",
              "      <td>NaN</td>\n",
              "      <td>NaN</td>\n",
              "      <td>NaN</td>\n",
              "      <td>NaN</td>\n",
              "      <td>0.0</td>\n",
              "      <td>0.0</td>\n",
              "      <td>NaN</td>\n",
              "      <td>NaN</td>\n",
              "      <td>NaN</td>\n",
              "      <td>NaN</td>\n",
              "    </tr>\n",
              "  </tbody>\n",
              "</table>\n",
              "</div>"
            ],
            "text/plain": [
              "        id  member_id  loan_amnt  funded_amnt  funded_amnt_inv        term  \\\n",
              "0  1077501  1296599.0     5000.0       5000.0           4975.0   36 months   \n",
              "1  1077430  1314167.0     2500.0       2500.0           2500.0   60 months   \n",
              "2  1077175  1313524.0     2400.0       2400.0           2400.0   36 months   \n",
              "\n",
              "  int_rate  installment grade sub_grade emp_title emp_length home_ownership  \\\n",
              "0   10.65%       162.87     B        B2       NaN  10+ years           RENT   \n",
              "1   15.27%        59.83     C        C4     Ryder   < 1 year           RENT   \n",
              "2   15.96%        84.33     C        C5       NaN  10+ years           RENT   \n",
              "\n",
              "   annual_inc verification_status   issue_d  loan_status pymnt_plan  \\\n",
              "0     24000.0            Verified  Dec-2011   Fully Paid          n   \n",
              "1     30000.0     Source Verified  Dec-2011  Charged Off          n   \n",
              "2     12252.0        Not Verified  Dec-2011   Fully Paid          n   \n",
              "\n",
              "                                                 url  \\\n",
              "0  https://lendingclub.com/browse/loanDetail.acti...   \n",
              "1  https://lendingclub.com/browse/loanDetail.acti...   \n",
              "2  https://lendingclub.com/browse/loanDetail.acti...   \n",
              "\n",
              "                                                desc         purpose  \\\n",
              "0    Borrower added on 12/22/11 > I need to upgra...     credit_card   \n",
              "1    Borrower added on 12/22/11 > I plan to use t...             car   \n",
              "2                                                NaN  small_business   \n",
              "\n",
              "                  title zip_code addr_state    dti  delinq_2yrs  \\\n",
              "0              Computer    860xx         AZ  27.65          0.0   \n",
              "1                  bike    309xx         GA   1.00          0.0   \n",
              "2  real estate business    606xx         IL   8.72          0.0   \n",
              "\n",
              "  earliest_cr_line  fico_range_low  fico_range_high  inq_last_6mths  \\\n",
              "0         Jan-1985           735.0            739.0             1.0   \n",
              "1         Apr-1999           740.0            744.0             5.0   \n",
              "2         Nov-2001           735.0            739.0             2.0   \n",
              "\n",
              "   mths_since_last_delinq  mths_since_last_record  open_acc  pub_rec  \\\n",
              "0                     NaN                     NaN       3.0      0.0   \n",
              "1                     NaN                     NaN       3.0      0.0   \n",
              "2                     NaN                     NaN       2.0      0.0   \n",
              "\n",
              "   revol_bal revol_util  total_acc initial_list_status  out_prncp  \\\n",
              "0    13648.0      83.7%        9.0                   f        0.0   \n",
              "1     1687.0       9.4%        4.0                   f        0.0   \n",
              "2     2956.0      98.5%       10.0                   f        0.0   \n",
              "\n",
              "   out_prncp_inv  total_pymnt  total_pymnt_inv  total_rec_prncp  \\\n",
              "0            0.0  5863.155187          5833.84          5000.00   \n",
              "1            0.0  1008.710000          1008.71           456.46   \n",
              "2            0.0  3005.666844          3005.67          2400.00   \n",
              "\n",
              "   total_rec_int  total_rec_late_fee  recoveries  collection_recovery_fee  \\\n",
              "0         863.16                 0.0        0.00                     0.00   \n",
              "1         435.17                 0.0      117.08                     1.11   \n",
              "2         605.67                 0.0        0.00                     0.00   \n",
              "\n",
              "  last_pymnt_d  last_pymnt_amnt next_pymnt_d last_credit_pull_d  \\\n",
              "0     Jan-2015           171.62          NaN           Sep-2016   \n",
              "1     Apr-2013           119.66          NaN           Sep-2016   \n",
              "2     Jun-2014           649.91          NaN           Sep-2016   \n",
              "\n",
              "   last_fico_range_high  last_fico_range_low  collections_12_mths_ex_med  \\\n",
              "0                 744.0                740.0                         0.0   \n",
              "1                 499.0                  0.0                         0.0   \n",
              "2                 719.0                715.0                         0.0   \n",
              "\n",
              "   mths_since_last_major_derog  policy_code application_type  \\\n",
              "0                          NaN          1.0       INDIVIDUAL   \n",
              "1                          NaN          1.0       INDIVIDUAL   \n",
              "2                          NaN          1.0       INDIVIDUAL   \n",
              "\n",
              "   annual_inc_joint  dti_joint  verification_status_joint  acc_now_delinq  \\\n",
              "0               NaN        NaN                        NaN             0.0   \n",
              "1               NaN        NaN                        NaN             0.0   \n",
              "2               NaN        NaN                        NaN             0.0   \n",
              "\n",
              "   tot_coll_amt  tot_cur_bal  open_acc_6m  open_il_6m  open_il_12m  \\\n",
              "0           NaN          NaN          NaN         NaN          NaN   \n",
              "1           NaN          NaN          NaN         NaN          NaN   \n",
              "2           NaN          NaN          NaN         NaN          NaN   \n",
              "\n",
              "   open_il_24m  mths_since_rcnt_il  total_bal_il  il_util  open_rv_12m  \\\n",
              "0          NaN                 NaN           NaN      NaN          NaN   \n",
              "1          NaN                 NaN           NaN      NaN          NaN   \n",
              "2          NaN                 NaN           NaN      NaN          NaN   \n",
              "\n",
              "   open_rv_24m  max_bal_bc  all_util  total_rev_hi_lim  inq_fi  total_cu_tl  \\\n",
              "0          NaN         NaN       NaN               NaN     NaN          NaN   \n",
              "1          NaN         NaN       NaN               NaN     NaN          NaN   \n",
              "2          NaN         NaN       NaN               NaN     NaN          NaN   \n",
              "\n",
              "   inq_last_12m  acc_open_past_24mths  avg_cur_bal  bc_open_to_buy  bc_util  \\\n",
              "0           NaN                   NaN          NaN             NaN      NaN   \n",
              "1           NaN                   NaN          NaN             NaN      NaN   \n",
              "2           NaN                   NaN          NaN             NaN      NaN   \n",
              "\n",
              "   chargeoff_within_12_mths  delinq_amnt  mo_sin_old_il_acct  \\\n",
              "0                       0.0          0.0                 NaN   \n",
              "1                       0.0          0.0                 NaN   \n",
              "2                       0.0          0.0                 NaN   \n",
              "\n",
              "   mo_sin_old_rev_tl_op  mo_sin_rcnt_rev_tl_op  mo_sin_rcnt_tl  mort_acc  \\\n",
              "0                   NaN                    NaN             NaN       NaN   \n",
              "1                   NaN                    NaN             NaN       NaN   \n",
              "2                   NaN                    NaN             NaN       NaN   \n",
              "\n",
              "   mths_since_recent_bc  mths_since_recent_bc_dlq  mths_since_recent_inq  \\\n",
              "0                   NaN                       NaN                    NaN   \n",
              "1                   NaN                       NaN                    NaN   \n",
              "2                   NaN                       NaN                    NaN   \n",
              "\n",
              "   mths_since_recent_revol_delinq  num_accts_ever_120_pd  num_actv_bc_tl  \\\n",
              "0                             NaN                    NaN             NaN   \n",
              "1                             NaN                    NaN             NaN   \n",
              "2                             NaN                    NaN             NaN   \n",
              "\n",
              "   num_actv_rev_tl  num_bc_sats  num_bc_tl  num_il_tl  num_op_rev_tl  \\\n",
              "0              NaN          NaN        NaN        NaN            NaN   \n",
              "1              NaN          NaN        NaN        NaN            NaN   \n",
              "2              NaN          NaN        NaN        NaN            NaN   \n",
              "\n",
              "   num_rev_accts  num_rev_tl_bal_gt_0  num_sats  num_tl_120dpd_2m  \\\n",
              "0            NaN                  NaN       NaN               NaN   \n",
              "1            NaN                  NaN       NaN               NaN   \n",
              "2            NaN                  NaN       NaN               NaN   \n",
              "\n",
              "   num_tl_30dpd  num_tl_90g_dpd_24m  num_tl_op_past_12m  pct_tl_nvr_dlq  \\\n",
              "0           NaN                 NaN                 NaN             NaN   \n",
              "1           NaN                 NaN                 NaN             NaN   \n",
              "2           NaN                 NaN                 NaN             NaN   \n",
              "\n",
              "   percent_bc_gt_75  pub_rec_bankruptcies  tax_liens  tot_hi_cred_lim  \\\n",
              "0               NaN                   0.0        0.0              NaN   \n",
              "1               NaN                   0.0        0.0              NaN   \n",
              "2               NaN                   0.0        0.0              NaN   \n",
              "\n",
              "   total_bal_ex_mort  total_bc_limit  total_il_high_credit_limit  \n",
              "0                NaN             NaN                         NaN  \n",
              "1                NaN             NaN                         NaN  \n",
              "2                NaN             NaN                         NaN  "
            ]
          },
          "metadata": {
            "tags": []
          },
          "execution_count": 4
        }
      ]
    },
    {
      "cell_type": "markdown",
      "metadata": {
        "id": "KGkErqMu4ang",
        "colab_type": "text"
      },
      "source": [
        "### Data Cleaning"
      ]
    },
    {
      "cell_type": "markdown",
      "metadata": {
        "id": "IzHr771YuuQy",
        "colab_type": "text"
      },
      "source": [
        "Let's get rid of any columns with over 50% missing values as it would only have a negative effect on our ML model"
      ]
    },
    {
      "cell_type": "code",
      "metadata": {
        "id": "O5XPeGdjr9h9",
        "colab_type": "code",
        "colab": {
          "base_uri": "https://localhost:8080/",
          "height": 34
        },
        "outputId": "3f7c6e8c-4939-4ade-c5dd-5cf1d248b42e"
      },
      "source": [
        "null_percentage = (loans_0711.isnull().sum())/len(loans_0711)*100\n",
        "over_50_cols = null_percentage[null_percentage > 50].index.tolist()\n",
        "loans_0711 = loans_0711.drop(over_50_cols, axis=1)\n",
        "loans_0711.shape"
      ],
      "execution_count": 5,
      "outputs": [
        {
          "output_type": "execute_result",
          "data": {
            "text/plain": [
              "(42538, 58)"
            ]
          },
          "metadata": {
            "tags": []
          },
          "execution_count": 5
        }
      ]
    },
    {
      "cell_type": "markdown",
      "metadata": {
        "id": "kNOuefznzNqG",
        "colab_type": "text"
      },
      "source": [
        "Let's get rid of the \"url\" and \"desc\" columns as well, since they make no sense in a Machine Learning Model."
      ]
    },
    {
      "cell_type": "code",
      "metadata": {
        "id": "G2GtP6fovUDL",
        "colab_type": "code",
        "colab": {
          "base_uri": "https://localhost:8080/",
          "height": 34
        },
        "outputId": "ea0e38cb-cd89-43ab-e27b-b93473632e76"
      },
      "source": [
        "remove_cols = [\"desc\", \"url\"]\n",
        "loans_0711 = loans_0711.drop(remove_cols, axis=1)\n",
        "loans_0711.shape"
      ],
      "execution_count": 6,
      "outputs": [
        {
          "output_type": "execute_result",
          "data": {
            "text/plain": [
              "(42538, 56)"
            ]
          },
          "metadata": {
            "tags": []
          },
          "execution_count": 6
        }
      ]
    },
    {
      "cell_type": "markdown",
      "metadata": {
        "id": "nCMyC0RAB8PU",
        "colab_type": "text"
      },
      "source": [
        "**Dropping Columns**"
      ]
    },
    {
      "cell_type": "markdown",
      "metadata": {
        "id": "pFDYFbTH_X-p",
        "colab_type": "text"
      },
      "source": [
        "Now let's remove the columns which either...\n",
        "\n",
        "1.   Has randomly generated values\n",
        "2.   Leaks data about the prediction\n",
        "3.   Requiers other data to be useful\n",
        "4.   Contains redundant information\n",
        "\n",
        "For indepth clarification, please see the data dictionary here: https://data.world/jaypeedevlin/lending-club-loan-data-2007-11\n",
        "\n"
      ]
    },
    {
      "cell_type": "code",
      "metadata": {
        "id": "7xgMVSuW06Rd",
        "colab_type": "code",
        "colab": {
          "base_uri": "https://localhost:8080/",
          "height": 68
        },
        "outputId": "1de17fcb-581f-4ab4-cff1-cac8cc7c77b8"
      },
      "source": [
        "loans_0711 = loans_0711.drop([\"id\", \"member_id\", \"funded_amnt\", \"funded_amnt_inv\", \"grade\", \"sub_grade\", \"emp_title\", \"issue_d\"], axis=1)\n",
        "print(loans_0711.shape)\n",
        "loans_0711 = loans_0711.drop([\"zip_code\", \"out_prncp\", \"out_prncp_inv\", \"total_pymnt\", \"total_pymnt_inv\", \"total_rec_prncp\"], axis=1)\n",
        "print(loans_0711.shape)\n",
        "loans_0711 = loans_0711.drop([\"total_rec_int\", \"total_rec_late_fee\", \"recoveries\", \"collection_recovery_fee\", \"last_pymnt_d\", \"last_pymnt_amnt\"], axis=1)\n",
        "print(loans_0711.shape)"
      ],
      "execution_count": 7,
      "outputs": [
        {
          "output_type": "stream",
          "text": [
            "(42538, 48)\n",
            "(42538, 42)\n",
            "(42538, 36)\n"
          ],
          "name": "stdout"
        }
      ]
    },
    {
      "cell_type": "markdown",
      "metadata": {
        "id": "TdP6X2I0CvtX",
        "colab_type": "text"
      },
      "source": [
        "We now have reduced our columns number to 36 columns. We belive these columns have quality data that can help our ML model make good predictions"
      ]
    },
    {
      "cell_type": "markdown",
      "metadata": {
        "id": "wkDjT2anC_uJ",
        "colab_type": "text"
      },
      "source": [
        "**Picking out the Target Column**"
      ]
    },
    {
      "cell_type": "markdown",
      "metadata": {
        "id": "qW34yGT9DKdN",
        "colab_type": "text"
      },
      "source": [
        "In order for our ML model to make a prediction, it requires a \"Target Column\". Looking at our list of columns, we must pick a column that accurately describes the status of the loan; paid, defaulted or charged-off. Since the only column that describes this well is the \"loan_status\" column, let's pick that column as our Target Column."
      ]
    },
    {
      "cell_type": "code",
      "metadata": {
        "id": "gqu_BltOCfiK",
        "colab_type": "code",
        "colab": {
          "base_uri": "https://localhost:8080/",
          "height": 187
        },
        "outputId": "76e60f46-d0ee-49cc-fceb-3723f631465b"
      },
      "source": [
        "print(loans_0711[\"loan_status\"].value_counts().sort_values(ascending=False))"
      ],
      "execution_count": 8,
      "outputs": [
        {
          "output_type": "stream",
          "text": [
            "Fully Paid                                             33586\n",
            "Charged Off                                             5653\n",
            "Does not meet the credit policy. Status:Fully Paid      1988\n",
            "Does not meet the credit policy. Status:Charged Off      761\n",
            "Current                                                  513\n",
            "In Grace Period                                           16\n",
            "Late (31-120 days)                                        12\n",
            "Late (16-30 days)                                          5\n",
            "Default                                                    1\n",
            "Name: loan_status, dtype: int64\n"
          ],
          "name": "stdout"
        }
      ]
    },
    {
      "cell_type": "markdown",
      "metadata": {
        "id": "vwbuYpfjEJo1",
        "colab_type": "text"
      },
      "source": [
        "Let's get rid of the rows that do not contain \"Fully Paid\" or \"Charged off\" from the \"loan_status\" column.\n",
        "Then, let's code the \"Fully Paid\" catergory as 1, and the \"Charged Off\" catergory as 2. This will benefit our ML model, as almost all ML models only understand numerical data."
      ]
    },
    {
      "cell_type": "markdown",
      "metadata": {
        "id": "0cH0v4MuAvaH",
        "colab_type": "text"
      },
      "source": [
        "In this project, we are looking from the investor's perspective. Since only the \"Fully Paid\" and \"Charged Off\" labels describe the final outcome of the loan, having the other labels could mislead the ML model."
      ]
    },
    {
      "cell_type": "code",
      "metadata": {
        "id": "rYYxPGHIDh75",
        "colab_type": "code",
        "colab": {}
      },
      "source": [
        "loans_0711 = loans_0711[(loans_0711[\"loan_status\"] == \"Fully Paid\") | (loans_0711[\"loan_status\"] == \"Charged Off\")]\n",
        "replace_code = {\"loan_status\":{\"Fully Paid\": 1, \"Charged Off\": 0}}\n",
        "loans_0711 = loans_0711.replace(replace_code)"
      ],
      "execution_count": 9,
      "outputs": []
    },
    {
      "cell_type": "code",
      "metadata": {
        "id": "1M5sdHo1Fcyi",
        "colab_type": "code",
        "colab": {
          "base_uri": "https://localhost:8080/",
          "height": 119
        },
        "outputId": "1d6a2b7c-70a0-426a-b639-3753cfb60c6e"
      },
      "source": [
        "loans_0711[\"loan_status\"].head()"
      ],
      "execution_count": 10,
      "outputs": [
        {
          "output_type": "execute_result",
          "data": {
            "text/plain": [
              "0    1\n",
              "1    0\n",
              "2    1\n",
              "3    1\n",
              "5    1\n",
              "Name: loan_status, dtype: int64"
            ]
          },
          "metadata": {
            "tags": []
          },
          "execution_count": 10
        }
      ]
    },
    {
      "cell_type": "markdown",
      "metadata": {
        "id": "RRx1V4J94ubT",
        "colab_type": "text"
      },
      "source": [
        "**Columns with only one unique value.**"
      ]
    },
    {
      "cell_type": "markdown",
      "metadata": {
        "id": "ZWSlDtVtGy-h",
        "colab_type": "text"
      },
      "source": [
        "Let's see if there are any columns with only one unique value in them. These columns are redundant in our model."
      ]
    },
    {
      "cell_type": "code",
      "metadata": {
        "id": "X-BZu6w7Gf1y",
        "colab_type": "code",
        "colab": {
          "base_uri": "https://localhost:8080/",
          "height": 204
        },
        "outputId": "67fd25b4-a2d8-4984-93d8-8d3180afc4f8"
      },
      "source": [
        "columns_list = loans_0711.columns.tolist()\n",
        "remove_cols = []\n",
        "\n",
        "for col in columns_list:\n",
        "  unique_vals = loans_0711[col].dropna().unique()\n",
        "  \n",
        "  if len(unique_vals) == 1:\n",
        "    remove_cols.append(col)\n",
        "\n",
        "loans_0711[remove_cols].head()"
      ],
      "execution_count": 11,
      "outputs": [
        {
          "output_type": "execute_result",
          "data": {
            "text/html": [
              "<div>\n",
              "<style scoped>\n",
              "    .dataframe tbody tr th:only-of-type {\n",
              "        vertical-align: middle;\n",
              "    }\n",
              "\n",
              "    .dataframe tbody tr th {\n",
              "        vertical-align: top;\n",
              "    }\n",
              "\n",
              "    .dataframe thead th {\n",
              "        text-align: right;\n",
              "    }\n",
              "</style>\n",
              "<table border=\"1\" class=\"dataframe\">\n",
              "  <thead>\n",
              "    <tr style=\"text-align: right;\">\n",
              "      <th></th>\n",
              "      <th>initial_list_status</th>\n",
              "      <th>collections_12_mths_ex_med</th>\n",
              "      <th>policy_code</th>\n",
              "      <th>application_type</th>\n",
              "      <th>acc_now_delinq</th>\n",
              "      <th>chargeoff_within_12_mths</th>\n",
              "      <th>delinq_amnt</th>\n",
              "      <th>tax_liens</th>\n",
              "    </tr>\n",
              "  </thead>\n",
              "  <tbody>\n",
              "    <tr>\n",
              "      <th>0</th>\n",
              "      <td>f</td>\n",
              "      <td>0.0</td>\n",
              "      <td>1.0</td>\n",
              "      <td>INDIVIDUAL</td>\n",
              "      <td>0.0</td>\n",
              "      <td>0.0</td>\n",
              "      <td>0.0</td>\n",
              "      <td>0.0</td>\n",
              "    </tr>\n",
              "    <tr>\n",
              "      <th>1</th>\n",
              "      <td>f</td>\n",
              "      <td>0.0</td>\n",
              "      <td>1.0</td>\n",
              "      <td>INDIVIDUAL</td>\n",
              "      <td>0.0</td>\n",
              "      <td>0.0</td>\n",
              "      <td>0.0</td>\n",
              "      <td>0.0</td>\n",
              "    </tr>\n",
              "    <tr>\n",
              "      <th>2</th>\n",
              "      <td>f</td>\n",
              "      <td>0.0</td>\n",
              "      <td>1.0</td>\n",
              "      <td>INDIVIDUAL</td>\n",
              "      <td>0.0</td>\n",
              "      <td>0.0</td>\n",
              "      <td>0.0</td>\n",
              "      <td>0.0</td>\n",
              "    </tr>\n",
              "    <tr>\n",
              "      <th>3</th>\n",
              "      <td>f</td>\n",
              "      <td>0.0</td>\n",
              "      <td>1.0</td>\n",
              "      <td>INDIVIDUAL</td>\n",
              "      <td>0.0</td>\n",
              "      <td>0.0</td>\n",
              "      <td>0.0</td>\n",
              "      <td>0.0</td>\n",
              "    </tr>\n",
              "    <tr>\n",
              "      <th>5</th>\n",
              "      <td>f</td>\n",
              "      <td>0.0</td>\n",
              "      <td>1.0</td>\n",
              "      <td>INDIVIDUAL</td>\n",
              "      <td>0.0</td>\n",
              "      <td>0.0</td>\n",
              "      <td>0.0</td>\n",
              "      <td>0.0</td>\n",
              "    </tr>\n",
              "  </tbody>\n",
              "</table>\n",
              "</div>"
            ],
            "text/plain": [
              "  initial_list_status  collections_12_mths_ex_med  policy_code  \\\n",
              "0                   f                         0.0          1.0   \n",
              "1                   f                         0.0          1.0   \n",
              "2                   f                         0.0          1.0   \n",
              "3                   f                         0.0          1.0   \n",
              "5                   f                         0.0          1.0   \n",
              "\n",
              "  application_type  acc_now_delinq  chargeoff_within_12_mths  delinq_amnt  \\\n",
              "0       INDIVIDUAL             0.0                       0.0          0.0   \n",
              "1       INDIVIDUAL             0.0                       0.0          0.0   \n",
              "2       INDIVIDUAL             0.0                       0.0          0.0   \n",
              "3       INDIVIDUAL             0.0                       0.0          0.0   \n",
              "5       INDIVIDUAL             0.0                       0.0          0.0   \n",
              "\n",
              "   tax_liens  \n",
              "0        0.0  \n",
              "1        0.0  \n",
              "2        0.0  \n",
              "3        0.0  \n",
              "5        0.0  "
            ]
          },
          "metadata": {
            "tags": []
          },
          "execution_count": 11
        }
      ]
    },
    {
      "cell_type": "code",
      "metadata": {
        "id": "LqxhN_xNHCJ9",
        "colab_type": "code",
        "colab": {
          "base_uri": "https://localhost:8080/",
          "height": 34
        },
        "outputId": "a9056950-67c7-4904-80b9-78f9b9ab5c42"
      },
      "source": [
        "loans_0711 = loans_0711.drop(remove_cols, axis=1)\n",
        "print(loans_0711.shape)"
      ],
      "execution_count": 12,
      "outputs": [
        {
          "output_type": "stream",
          "text": [
            "(39239, 28)\n"
          ],
          "name": "stdout"
        }
      ]
    },
    {
      "cell_type": "markdown",
      "metadata": {
        "id": "QcH8ma7GKUNx",
        "colab_type": "text"
      },
      "source": [
        "Let's also get rid or the \"pymnt_plan\" and the columns containing \"fico\" as they seem to have misleading values"
      ]
    },
    {
      "cell_type": "code",
      "metadata": {
        "id": "bl8EqxsDIaBB",
        "colab_type": "code",
        "colab": {
          "base_uri": "https://localhost:8080/",
          "height": 34
        },
        "outputId": "97bca5e2-e1ff-40c8-dd54-28416beab889"
      },
      "source": [
        "remove_cols = ['pymnt_plan','fico_range_low','fico_range_high','last_fico_range_high','last_fico_range_low']\n",
        "loans_0711 = loans_0711.drop(remove_cols, axis=1)\n",
        "print(loans_0711.shape)"
      ],
      "execution_count": 13,
      "outputs": [
        {
          "output_type": "stream",
          "text": [
            "(39239, 23)\n"
          ],
          "name": "stdout"
        }
      ]
    },
    {
      "cell_type": "markdown",
      "metadata": {
        "id": "zmXg18RuKllg",
        "colab_type": "text"
      },
      "source": [
        "Great! We now were able to reduce our set of columns from 115 to 23. We believe that these 23 columns have a direct relatioship with the \"loan_status\" column, and hence will be able to make good predictions"
      ]
    },
    {
      "cell_type": "markdown",
      "metadata": {
        "id": "-a0_NUsvQkYX",
        "colab_type": "text"
      },
      "source": [
        "# 2. Feature Preparation"
      ]
    },
    {
      "cell_type": "markdown",
      "metadata": {
        "id": "vDM8k06qQs17",
        "colab_type": "text"
      },
      "source": [
        "In this section, we will be dealing with preparing the columns in a suitable way to feed into the Machine Learning algorithm. This includes turning the non-numerical columns in to numerical columns as well."
      ]
    },
    {
      "cell_type": "markdown",
      "metadata": {
        "id": "pb_APfHo47Du",
        "colab_type": "text"
      },
      "source": [
        "### Checking the class imbalance"
      ]
    },
    {
      "cell_type": "code",
      "metadata": {
        "id": "LIKOTM7KQ4vh",
        "colab_type": "code",
        "colab": {
          "base_uri": "https://localhost:8080/",
          "height": 102
        },
        "outputId": "1f39af99-8395-4864-c254-3526513024a1"
      },
      "source": [
        "print(loans_0711['loan_status'].value_counts())\n",
        "print('#'*20)\n",
        "zero_count_pct = (loans_0711['loan_status']).sum()/(loans_0711['loan_status']== 0).sum()\n",
        "print(zero_count_pct)"
      ],
      "execution_count": 14,
      "outputs": [
        {
          "output_type": "stream",
          "text": [
            "1    33586\n",
            "0     5653\n",
            "Name: loan_status, dtype: int64\n",
            "####################\n",
            "5.941270122059084\n"
          ],
          "name": "stdout"
        }
      ]
    },
    {
      "cell_type": "markdown",
      "metadata": {
        "id": "q4MfPBROTBeY",
        "colab_type": "text"
      },
      "source": [
        "From the above code output, we should also note that we have 6 times more data for loans that were fully paid, than for loans that were \"charged-off\". This must be kept in mind when developing the ML models, as this causes class imbalances. "
      ]
    },
    {
      "cell_type": "markdown",
      "metadata": {
        "id": "6e80fp9E5KVP",
        "colab_type": "text"
      },
      "source": [
        "### Handling missing values"
      ]
    },
    {
      "cell_type": "markdown",
      "metadata": {
        "id": "z2hNhH6JTwtA",
        "colab_type": "text"
      },
      "source": [
        "Now, let's take a look at the columns with missing values, and see if columns with a large number of missing values can be dropped."
      ]
    },
    {
      "cell_type": "code",
      "metadata": {
        "id": "cfE-Dn-LRwX4",
        "colab_type": "code",
        "colab": {
          "base_uri": "https://localhost:8080/",
          "height": 425
        },
        "outputId": "30ddeb30-5b90-4361-de1d-9060014e571a"
      },
      "source": [
        "print(loans_0711.isnull().sum().sort_values(ascending=False))"
      ],
      "execution_count": 15,
      "outputs": [
        {
          "output_type": "stream",
          "text": [
            "emp_length              1057\n",
            "pub_rec_bankruptcies     697\n",
            "revol_util                50\n",
            "title                     11\n",
            "last_credit_pull_d         2\n",
            "purpose                    0\n",
            "term                       0\n",
            "int_rate                   0\n",
            "installment                0\n",
            "home_ownership             0\n",
            "annual_inc                 0\n",
            "verification_status        0\n",
            "loan_status                0\n",
            "addr_state                 0\n",
            "dti                        0\n",
            "delinq_2yrs                0\n",
            "earliest_cr_line           0\n",
            "inq_last_6mths             0\n",
            "open_acc                   0\n",
            "pub_rec                    0\n",
            "revol_bal                  0\n",
            "total_acc                  0\n",
            "loan_amnt                  0\n",
            "dtype: int64\n"
          ],
          "name": "stdout"
        }
      ]
    },
    {
      "cell_type": "markdown",
      "metadata": {
        "id": "xulRT_YGUi_Q",
        "colab_type": "text"
      },
      "source": [
        "\"emp_length\" relates to employment length. Since this is a very important factor when it comes to knowing if a person can payback the loan, we must keep this column as it is.\n",
        "\n",
        "Columns less that 50 missing values doesnt really cause a problem as well. So let us now look at the \"pub_rec_bankruptcies\"."
      ]
    },
    {
      "cell_type": "code",
      "metadata": {
        "id": "HGhO6NoVTrxf",
        "colab_type": "code",
        "colab": {
          "base_uri": "https://localhost:8080/",
          "height": 85
        },
        "outputId": "259b97e8-faf5-427d-fff2-f0b52115e945"
      },
      "source": [
        "loans_0711[\"pub_rec_bankruptcies\"].value_counts()"
      ],
      "execution_count": 16,
      "outputs": [
        {
          "output_type": "execute_result",
          "data": {
            "text/plain": [
              "0.0    36872\n",
              "1.0     1665\n",
              "2.0        5\n",
              "Name: pub_rec_bankruptcies, dtype: int64"
            ]
          },
          "metadata": {
            "tags": []
          },
          "execution_count": 16
        }
      ]
    },
    {
      "cell_type": "code",
      "metadata": {
        "id": "OjrRjdB3VReT",
        "colab_type": "code",
        "colab": {
          "base_uri": "https://localhost:8080/",
          "height": 204
        },
        "outputId": "e658a0b4-17df-4ffc-dfdc-a8ece047ae93"
      },
      "source": [
        "# Finding the % of people who were not bankrupt, and was able to pay the loans or not\n",
        "not_bankrupt = loans_0711[loans_0711[\"pub_rec_bankruptcies\"]==0]\n",
        "print(not_bankrupt[\"loan_status\"].value_counts(normalize=True))\n",
        "\n",
        "\n",
        "print(\"*\"*20)\n",
        "\n",
        "# Finding the % of people who have been bankrupt, and was able to pay the loans or not\n",
        "bankrupt = loans_0711[loans_0711[\"pub_rec_bankruptcies\"]>0]\n",
        "print(bankrupt[\"loan_status\"].value_counts(normalize=True))\n",
        "\n",
        "print(\"*\"*20)\n",
        "\n",
        "# Finding the % of people who has no information under this field, and was able to pay the loans or not\n",
        "no_info = loans_0711[loans_0711[\"pub_rec_bankruptcies\"].isnull()]\n",
        "print(no_info[\"loan_status\"].value_counts(normalize=True))\n",
        "\n",
        "\n"
      ],
      "execution_count": 17,
      "outputs": [
        {
          "output_type": "stream",
          "text": [
            "1    0.859948\n",
            "0    0.140052\n",
            "Name: loan_status, dtype: float64\n",
            "********************\n",
            "1    0.777844\n",
            "0    0.222156\n",
            "Name: loan_status, dtype: float64\n",
            "********************\n",
            "1    0.830703\n",
            "0    0.169297\n",
            "Name: loan_status, dtype: float64\n"
          ],
          "name": "stdout"
        }
      ]
    },
    {
      "cell_type": "markdown",
      "metadata": {
        "id": "Kd_eQfStXDLY",
        "colab_type": "text"
      },
      "source": [
        "While there seems to be a not an extremly direct correlation between the two sets of people above, the people who had been bankrupt at some point of the time has a lesser chance of paying the loan in full on time (about 7% less). However, a large percentage of people did not mention their bankruptcy history. And when we take all the classes of people (who did not mention bankcruptcy history, not bankcrupt, has been bankcrupt), the variability among all three classes is negligable. So we can actually get rid of this column as well. "
      ]
    },
    {
      "cell_type": "code",
      "metadata": {
        "id": "LazdQEW7Vzik",
        "colab_type": "code",
        "colab": {
          "base_uri": "https://localhost:8080/",
          "height": 34
        },
        "outputId": "5067f98b-3655-4f75-a841-86c67b8a5487"
      },
      "source": [
        "loans_0711 = loans_0711.drop(\"pub_rec_bankruptcies\", axis=1)\n",
        "loans_0711.shape"
      ],
      "execution_count": 18,
      "outputs": [
        {
          "output_type": "execute_result",
          "data": {
            "text/plain": [
              "(39239, 22)"
            ]
          },
          "metadata": {
            "tags": []
          },
          "execution_count": 18
        }
      ]
    },
    {
      "cell_type": "markdown",
      "metadata": {
        "id": "jz94io54Ywkt",
        "colab_type": "text"
      },
      "source": [
        "### Column dtypes and converting of text columns to numerical"
      ]
    },
    {
      "cell_type": "markdown",
      "metadata": {
        "id": "QTLzUv73Y_Ga",
        "colab_type": "text"
      },
      "source": [
        "Let's take a look at what the column types we have with us now"
      ]
    },
    {
      "cell_type": "code",
      "metadata": {
        "id": "drTVnyFMY2Dy",
        "colab_type": "code",
        "colab": {
          "base_uri": "https://localhost:8080/",
          "height": 408
        },
        "outputId": "7c8f49ce-3fb0-43c3-ac17-16d9f0002b73"
      },
      "source": [
        "print(loans_0711.dtypes.sort_values())"
      ],
      "execution_count": 19,
      "outputs": [
        {
          "output_type": "stream",
          "text": [
            "loan_status              int64\n",
            "loan_amnt              float64\n",
            "revol_bal              float64\n",
            "installment            float64\n",
            "pub_rec                float64\n",
            "open_acc               float64\n",
            "annual_inc             float64\n",
            "inq_last_6mths         float64\n",
            "total_acc              float64\n",
            "delinq_2yrs            float64\n",
            "dti                    float64\n",
            "revol_util              object\n",
            "earliest_cr_line        object\n",
            "title                   object\n",
            "purpose                 object\n",
            "verification_status     object\n",
            "home_ownership          object\n",
            "emp_length              object\n",
            "int_rate                object\n",
            "term                    object\n",
            "addr_state              object\n",
            "last_credit_pull_d      object\n",
            "dtype: object\n"
          ],
          "name": "stdout"
        }
      ]
    },
    {
      "cell_type": "code",
      "metadata": {
        "id": "gtyQxcWVZHnV",
        "colab_type": "code",
        "colab": {}
      },
      "source": [
        ""
      ],
      "execution_count": 19,
      "outputs": []
    },
    {
      "cell_type": "markdown",
      "metadata": {
        "id": "qPpBZ-7JZWy6",
        "colab_type": "text"
      },
      "source": [
        "Since we will be using ScikitLearn, most of their algorithms expect the columns to be numerical. Let's take a look at our text columns and see if we can convert them to numerical columns. "
      ]
    },
    {
      "cell_type": "code",
      "metadata": {
        "id": "Ci4CbZfTZli6",
        "colab_type": "code",
        "colab": {
          "base_uri": "https://localhost:8080/",
          "height": 221
        },
        "outputId": "6cebaf65-78d1-4cda-908d-39c9dea1cd66"
      },
      "source": [
        "text_df = loans_0711.select_dtypes(include=\"object\")\n",
        "print(text_df.shape)\n",
        "text_df.head()\n"
      ],
      "execution_count": 20,
      "outputs": [
        {
          "output_type": "stream",
          "text": [
            "(39239, 11)\n"
          ],
          "name": "stdout"
        },
        {
          "output_type": "execute_result",
          "data": {
            "text/html": [
              "<div>\n",
              "<style scoped>\n",
              "    .dataframe tbody tr th:only-of-type {\n",
              "        vertical-align: middle;\n",
              "    }\n",
              "\n",
              "    .dataframe tbody tr th {\n",
              "        vertical-align: top;\n",
              "    }\n",
              "\n",
              "    .dataframe thead th {\n",
              "        text-align: right;\n",
              "    }\n",
              "</style>\n",
              "<table border=\"1\" class=\"dataframe\">\n",
              "  <thead>\n",
              "    <tr style=\"text-align: right;\">\n",
              "      <th></th>\n",
              "      <th>term</th>\n",
              "      <th>int_rate</th>\n",
              "      <th>emp_length</th>\n",
              "      <th>home_ownership</th>\n",
              "      <th>verification_status</th>\n",
              "      <th>purpose</th>\n",
              "      <th>title</th>\n",
              "      <th>addr_state</th>\n",
              "      <th>earliest_cr_line</th>\n",
              "      <th>revol_util</th>\n",
              "      <th>last_credit_pull_d</th>\n",
              "    </tr>\n",
              "  </thead>\n",
              "  <tbody>\n",
              "    <tr>\n",
              "      <th>0</th>\n",
              "      <td>36 months</td>\n",
              "      <td>10.65%</td>\n",
              "      <td>10+ years</td>\n",
              "      <td>RENT</td>\n",
              "      <td>Verified</td>\n",
              "      <td>credit_card</td>\n",
              "      <td>Computer</td>\n",
              "      <td>AZ</td>\n",
              "      <td>Jan-1985</td>\n",
              "      <td>83.7%</td>\n",
              "      <td>Sep-2016</td>\n",
              "    </tr>\n",
              "    <tr>\n",
              "      <th>1</th>\n",
              "      <td>60 months</td>\n",
              "      <td>15.27%</td>\n",
              "      <td>&lt; 1 year</td>\n",
              "      <td>RENT</td>\n",
              "      <td>Source Verified</td>\n",
              "      <td>car</td>\n",
              "      <td>bike</td>\n",
              "      <td>GA</td>\n",
              "      <td>Apr-1999</td>\n",
              "      <td>9.4%</td>\n",
              "      <td>Sep-2016</td>\n",
              "    </tr>\n",
              "    <tr>\n",
              "      <th>2</th>\n",
              "      <td>36 months</td>\n",
              "      <td>15.96%</td>\n",
              "      <td>10+ years</td>\n",
              "      <td>RENT</td>\n",
              "      <td>Not Verified</td>\n",
              "      <td>small_business</td>\n",
              "      <td>real estate business</td>\n",
              "      <td>IL</td>\n",
              "      <td>Nov-2001</td>\n",
              "      <td>98.5%</td>\n",
              "      <td>Sep-2016</td>\n",
              "    </tr>\n",
              "    <tr>\n",
              "      <th>3</th>\n",
              "      <td>36 months</td>\n",
              "      <td>13.49%</td>\n",
              "      <td>10+ years</td>\n",
              "      <td>RENT</td>\n",
              "      <td>Source Verified</td>\n",
              "      <td>other</td>\n",
              "      <td>personel</td>\n",
              "      <td>CA</td>\n",
              "      <td>Feb-1996</td>\n",
              "      <td>21%</td>\n",
              "      <td>Apr-2016</td>\n",
              "    </tr>\n",
              "    <tr>\n",
              "      <th>5</th>\n",
              "      <td>36 months</td>\n",
              "      <td>7.90%</td>\n",
              "      <td>3 years</td>\n",
              "      <td>RENT</td>\n",
              "      <td>Source Verified</td>\n",
              "      <td>wedding</td>\n",
              "      <td>My wedding loan I promise to pay back</td>\n",
              "      <td>AZ</td>\n",
              "      <td>Nov-2004</td>\n",
              "      <td>28.3%</td>\n",
              "      <td>Jan-2016</td>\n",
              "    </tr>\n",
              "  </tbody>\n",
              "</table>\n",
              "</div>"
            ],
            "text/plain": [
              "         term int_rate emp_length home_ownership verification_status  \\\n",
              "0   36 months   10.65%  10+ years           RENT            Verified   \n",
              "1   60 months   15.27%   < 1 year           RENT     Source Verified   \n",
              "2   36 months   15.96%  10+ years           RENT        Not Verified   \n",
              "3   36 months   13.49%  10+ years           RENT     Source Verified   \n",
              "5   36 months    7.90%    3 years           RENT     Source Verified   \n",
              "\n",
              "          purpose                                  title addr_state  \\\n",
              "0     credit_card                               Computer         AZ   \n",
              "1             car                                   bike         GA   \n",
              "2  small_business                   real estate business         IL   \n",
              "3           other                               personel         CA   \n",
              "5         wedding  My wedding loan I promise to pay back         AZ   \n",
              "\n",
              "  earliest_cr_line revol_util last_credit_pull_d  \n",
              "0         Jan-1985      83.7%           Sep-2016  \n",
              "1         Apr-1999       9.4%           Sep-2016  \n",
              "2         Nov-2001      98.5%           Sep-2016  \n",
              "3         Feb-1996        21%           Apr-2016  \n",
              "5         Nov-2004      28.3%           Jan-2016  "
            ]
          },
          "metadata": {
            "tags": []
          },
          "execution_count": 20
        }
      ]
    },
    {
      "cell_type": "markdown",
      "metadata": {
        "id": "YjGAZmYDayuN",
        "colab_type": "text"
      },
      "source": [
        "We can see that the columns \"int_rate\" and \"revol_util\" both are actually having numerical values but are taken as objects because of the \"%\" sign. Let's get that fixed."
      ]
    },
    {
      "cell_type": "code",
      "metadata": {
        "id": "63Mxw6VbVjgQ",
        "colab_type": "code",
        "colab": {
          "base_uri": "https://localhost:8080/",
          "height": 51
        },
        "outputId": "73319121-0173-48c8-f57f-0c0fb1737193"
      },
      "source": [
        "# Deleting rows with missing values in revol_util (less than 0.12% of data)\n",
        "print(loans_0711[\"revol_util\"].isnull().sum())\n",
        "drop_index = loans_0711[loans_0711[\"revol_util\"].isnull()].index\n",
        "loans_0711 = loans_0711.drop(index=drop_index)\n",
        "print(loans_0711[\"revol_util\"].isnull().sum())\n"
      ],
      "execution_count": 21,
      "outputs": [
        {
          "output_type": "stream",
          "text": [
            "50\n",
            "0\n"
          ],
          "name": "stdout"
        }
      ]
    },
    {
      "cell_type": "code",
      "metadata": {
        "id": "l5yCfJaTZ2-8",
        "colab_type": "code",
        "colab": {
          "base_uri": "https://localhost:8080/",
          "height": 221
        },
        "outputId": "44d642c3-59e2-4914-a6bd-1c1bc3fa9f3b"
      },
      "source": [
        "loans_0711[\"int_rate\"] = loans_0711[\"int_rate\"].str.replace(\"%\",\"\").astype(\"float\")\n",
        "loans_0711[\"revol_util\"] = loans_0711[\"revol_util\"].str.replace(\"%\",\"\").astype(\"float\")\n",
        "text_df = loans_0711.select_dtypes(include=\"object\")\n",
        "print(text_df.shape)\n",
        "text_df.head()"
      ],
      "execution_count": 22,
      "outputs": [
        {
          "output_type": "stream",
          "text": [
            "(39189, 9)\n"
          ],
          "name": "stdout"
        },
        {
          "output_type": "execute_result",
          "data": {
            "text/html": [
              "<div>\n",
              "<style scoped>\n",
              "    .dataframe tbody tr th:only-of-type {\n",
              "        vertical-align: middle;\n",
              "    }\n",
              "\n",
              "    .dataframe tbody tr th {\n",
              "        vertical-align: top;\n",
              "    }\n",
              "\n",
              "    .dataframe thead th {\n",
              "        text-align: right;\n",
              "    }\n",
              "</style>\n",
              "<table border=\"1\" class=\"dataframe\">\n",
              "  <thead>\n",
              "    <tr style=\"text-align: right;\">\n",
              "      <th></th>\n",
              "      <th>term</th>\n",
              "      <th>emp_length</th>\n",
              "      <th>home_ownership</th>\n",
              "      <th>verification_status</th>\n",
              "      <th>purpose</th>\n",
              "      <th>title</th>\n",
              "      <th>addr_state</th>\n",
              "      <th>earliest_cr_line</th>\n",
              "      <th>last_credit_pull_d</th>\n",
              "    </tr>\n",
              "  </thead>\n",
              "  <tbody>\n",
              "    <tr>\n",
              "      <th>0</th>\n",
              "      <td>36 months</td>\n",
              "      <td>10+ years</td>\n",
              "      <td>RENT</td>\n",
              "      <td>Verified</td>\n",
              "      <td>credit_card</td>\n",
              "      <td>Computer</td>\n",
              "      <td>AZ</td>\n",
              "      <td>Jan-1985</td>\n",
              "      <td>Sep-2016</td>\n",
              "    </tr>\n",
              "    <tr>\n",
              "      <th>1</th>\n",
              "      <td>60 months</td>\n",
              "      <td>&lt; 1 year</td>\n",
              "      <td>RENT</td>\n",
              "      <td>Source Verified</td>\n",
              "      <td>car</td>\n",
              "      <td>bike</td>\n",
              "      <td>GA</td>\n",
              "      <td>Apr-1999</td>\n",
              "      <td>Sep-2016</td>\n",
              "    </tr>\n",
              "    <tr>\n",
              "      <th>2</th>\n",
              "      <td>36 months</td>\n",
              "      <td>10+ years</td>\n",
              "      <td>RENT</td>\n",
              "      <td>Not Verified</td>\n",
              "      <td>small_business</td>\n",
              "      <td>real estate business</td>\n",
              "      <td>IL</td>\n",
              "      <td>Nov-2001</td>\n",
              "      <td>Sep-2016</td>\n",
              "    </tr>\n",
              "    <tr>\n",
              "      <th>3</th>\n",
              "      <td>36 months</td>\n",
              "      <td>10+ years</td>\n",
              "      <td>RENT</td>\n",
              "      <td>Source Verified</td>\n",
              "      <td>other</td>\n",
              "      <td>personel</td>\n",
              "      <td>CA</td>\n",
              "      <td>Feb-1996</td>\n",
              "      <td>Apr-2016</td>\n",
              "    </tr>\n",
              "    <tr>\n",
              "      <th>5</th>\n",
              "      <td>36 months</td>\n",
              "      <td>3 years</td>\n",
              "      <td>RENT</td>\n",
              "      <td>Source Verified</td>\n",
              "      <td>wedding</td>\n",
              "      <td>My wedding loan I promise to pay back</td>\n",
              "      <td>AZ</td>\n",
              "      <td>Nov-2004</td>\n",
              "      <td>Jan-2016</td>\n",
              "    </tr>\n",
              "  </tbody>\n",
              "</table>\n",
              "</div>"
            ],
            "text/plain": [
              "         term emp_length home_ownership verification_status         purpose  \\\n",
              "0   36 months  10+ years           RENT            Verified     credit_card   \n",
              "1   60 months   < 1 year           RENT     Source Verified             car   \n",
              "2   36 months  10+ years           RENT        Not Verified  small_business   \n",
              "3   36 months  10+ years           RENT     Source Verified           other   \n",
              "5   36 months    3 years           RENT     Source Verified         wedding   \n",
              "\n",
              "                                   title addr_state earliest_cr_line  \\\n",
              "0                               Computer         AZ         Jan-1985   \n",
              "1                                   bike         GA         Apr-1999   \n",
              "2                   real estate business         IL         Nov-2001   \n",
              "3                               personel         CA         Feb-1996   \n",
              "5  My wedding loan I promise to pay back         AZ         Nov-2004   \n",
              "\n",
              "  last_credit_pull_d  \n",
              "0           Sep-2016  \n",
              "1           Sep-2016  \n",
              "2           Sep-2016  \n",
              "3           Apr-2016  \n",
              "5           Jan-2016  "
            ]
          },
          "metadata": {
            "tags": []
          },
          "execution_count": 22
        }
      ]
    },
    {
      "cell_type": "markdown",
      "metadata": {
        "id": "7ohFuOnld3yX",
        "colab_type": "text"
      },
      "source": [
        "Let's explore the unique value counts of the columns that seem like they contain categorical values."
      ]
    },
    {
      "cell_type": "code",
      "metadata": {
        "id": "1KQVWwdTdLL3",
        "colab_type": "code",
        "colab": {
          "base_uri": "https://localhost:8080/",
          "height": 1000
        },
        "outputId": "e05a57bf-3da6-401d-848b-53891a00b0de"
      },
      "source": [
        "cols = ['home_ownership', 'verification_status', 'emp_length', 'term', 'addr_state']\n",
        "for c in cols:\n",
        "    print(loans_0711[c].value_counts())"
      ],
      "execution_count": 23,
      "outputs": [
        {
          "output_type": "stream",
          "text": [
            "RENT        18682\n",
            "MORTGAGE    17385\n",
            "OWN          3023\n",
            "OTHER          96\n",
            "NONE            3\n",
            "Name: home_ownership, dtype: int64\n",
            "Not Verified       16816\n",
            "Verified           12516\n",
            "Source Verified     9857\n",
            "Name: verification_status, dtype: int64\n",
            "10+ years    8716\n",
            "< 1 year     4544\n",
            "2 years      4344\n",
            "3 years      4050\n",
            "4 years      3387\n",
            "5 years      3246\n",
            "1 year       3208\n",
            "6 years      2199\n",
            "7 years      1739\n",
            "8 years      1457\n",
            "9 years      1245\n",
            "Name: emp_length, dtype: int64\n",
            " 36 months    29049\n",
            " 60 months    10140\n",
            "Name: term, dtype: int64\n",
            "CA    7022\n",
            "NY    3758\n",
            "FL    2833\n",
            "TX    2694\n",
            "NJ    1825\n",
            "IL    1513\n",
            "PA    1493\n",
            "VA    1388\n",
            "GA    1381\n",
            "MA    1322\n",
            "OH    1198\n",
            "MD    1039\n",
            "AZ     864\n",
            "WA     830\n",
            "CO     778\n",
            "NC     772\n",
            "CT     738\n",
            "MI     718\n",
            "MO     677\n",
            "MN     609\n",
            "NV     488\n",
            "SC     469\n",
            "WI     447\n",
            "OR     441\n",
            "AL     441\n",
            "LA     432\n",
            "KY     319\n",
            "OK     295\n",
            "KS     264\n",
            "UT     255\n",
            "AR     241\n",
            "DC     211\n",
            "RI     197\n",
            "NM     187\n",
            "WV     174\n",
            "HI     170\n",
            "NH     169\n",
            "DE     113\n",
            "MT      84\n",
            "WY      83\n",
            "AK      79\n",
            "SD      61\n",
            "VT      53\n",
            "MS      19\n",
            "TN      17\n",
            "IN       9\n",
            "ID       6\n",
            "NE       5\n",
            "IA       5\n",
            "ME       3\n",
            "Name: addr_state, dtype: int64\n"
          ],
          "name": "stdout"
        }
      ]
    },
    {
      "cell_type": "markdown",
      "metadata": {
        "id": "1ILgJJbpHw07",
        "colab_type": "text"
      },
      "source": [
        "The columns mentioned above all have multiple discrete values. It is good practice to clean up the \"emp_length\" column and treat it as a numerical column, since there is an order to its data. \n",
        "\n",
        "Both columns \"title\" and \"purpose\" convey the same message. Since the \"purpose\" column contains few discrete values, we will opt to keep that column.\n",
        "\n",
        "The \"addr_state\" column has 50 discrete values. Converting this to dummy variables would add 50 more columns to the ML model dataset. Let's for now drop this column."
      ]
    },
    {
      "cell_type": "code",
      "metadata": {
        "id": "ILrZj0Smd-2J",
        "colab_type": "code",
        "colab": {}
      },
      "source": [
        "mapping_dict = {\n",
        "    \"emp_length\": {\n",
        "        \"10+ years\": 10,\n",
        "        \"9 years\": 9,\n",
        "        \"8 years\": 8,\n",
        "        \"7 years\": 7,\n",
        "        \"6 years\": 6,\n",
        "        \"5 years\": 5,\n",
        "        \"4 years\": 4,\n",
        "        \"3 years\": 3,\n",
        "        \"2 years\": 2,\n",
        "        \"1 year\": 1,\n",
        "        \"< 1 year\": 0,\n",
        "        np.nan: 0\n",
        "    }\n",
        "}"
      ],
      "execution_count": 24,
      "outputs": []
    },
    {
      "cell_type": "code",
      "metadata": {
        "id": "6DcOTUJaIjxg",
        "colab_type": "code",
        "colab": {}
      },
      "source": [
        "loans_0711 = loans_0711.drop([\"last_credit_pull_d\", \"earliest_cr_line\", \"addr_state\", \"title\"], axis=1)\n",
        "loans_0711 = loans_0711.replace(mapping_dict)"
      ],
      "execution_count": 25,
      "outputs": []
    },
    {
      "cell_type": "code",
      "metadata": {
        "id": "oaEjN6d8JYKR",
        "colab_type": "code",
        "colab": {
          "base_uri": "https://localhost:8080/",
          "height": 221
        },
        "outputId": "b944952f-2b57-44c8-8e19-f1a3164f7f1a"
      },
      "source": [
        "text_df = loans_0711.select_dtypes(include=\"object\")\n",
        "print(text_df.shape)\n",
        "text_df.head()"
      ],
      "execution_count": 26,
      "outputs": [
        {
          "output_type": "stream",
          "text": [
            "(39189, 4)\n"
          ],
          "name": "stdout"
        },
        {
          "output_type": "execute_result",
          "data": {
            "text/html": [
              "<div>\n",
              "<style scoped>\n",
              "    .dataframe tbody tr th:only-of-type {\n",
              "        vertical-align: middle;\n",
              "    }\n",
              "\n",
              "    .dataframe tbody tr th {\n",
              "        vertical-align: top;\n",
              "    }\n",
              "\n",
              "    .dataframe thead th {\n",
              "        text-align: right;\n",
              "    }\n",
              "</style>\n",
              "<table border=\"1\" class=\"dataframe\">\n",
              "  <thead>\n",
              "    <tr style=\"text-align: right;\">\n",
              "      <th></th>\n",
              "      <th>term</th>\n",
              "      <th>home_ownership</th>\n",
              "      <th>verification_status</th>\n",
              "      <th>purpose</th>\n",
              "    </tr>\n",
              "  </thead>\n",
              "  <tbody>\n",
              "    <tr>\n",
              "      <th>0</th>\n",
              "      <td>36 months</td>\n",
              "      <td>RENT</td>\n",
              "      <td>Verified</td>\n",
              "      <td>credit_card</td>\n",
              "    </tr>\n",
              "    <tr>\n",
              "      <th>1</th>\n",
              "      <td>60 months</td>\n",
              "      <td>RENT</td>\n",
              "      <td>Source Verified</td>\n",
              "      <td>car</td>\n",
              "    </tr>\n",
              "    <tr>\n",
              "      <th>2</th>\n",
              "      <td>36 months</td>\n",
              "      <td>RENT</td>\n",
              "      <td>Not Verified</td>\n",
              "      <td>small_business</td>\n",
              "    </tr>\n",
              "    <tr>\n",
              "      <th>3</th>\n",
              "      <td>36 months</td>\n",
              "      <td>RENT</td>\n",
              "      <td>Source Verified</td>\n",
              "      <td>other</td>\n",
              "    </tr>\n",
              "    <tr>\n",
              "      <th>5</th>\n",
              "      <td>36 months</td>\n",
              "      <td>RENT</td>\n",
              "      <td>Source Verified</td>\n",
              "      <td>wedding</td>\n",
              "    </tr>\n",
              "  </tbody>\n",
              "</table>\n",
              "</div>"
            ],
            "text/plain": [
              "         term home_ownership verification_status         purpose\n",
              "0   36 months           RENT            Verified     credit_card\n",
              "1   60 months           RENT     Source Verified             car\n",
              "2   36 months           RENT        Not Verified  small_business\n",
              "3   36 months           RENT     Source Verified           other\n",
              "5   36 months           RENT     Source Verified         wedding"
            ]
          },
          "metadata": {
            "tags": []
          },
          "execution_count": 26
        }
      ]
    },
    {
      "cell_type": "markdown",
      "metadata": {
        "id": "TevOuRgwKNm5",
        "colab_type": "text"
      },
      "source": [
        "Let's now convert the above four columns into catergorical columns, so we can use it in our ML Model"
      ]
    },
    {
      "cell_type": "code",
      "metadata": {
        "id": "Prkfyh0eJj5x",
        "colab_type": "code",
        "colab": {}
      },
      "source": [
        "text_cols = text_df.columns.tolist()\n",
        "dummy_df = pd.get_dummies(loans_0711[text_cols])"
      ],
      "execution_count": 27,
      "outputs": []
    },
    {
      "cell_type": "markdown",
      "metadata": {
        "id": "lFPZJYQILUkz",
        "colab_type": "text"
      },
      "source": [
        "Now, let's connect the \"dummy_df\" to our main dataframe (\"loans_0711\") and let's drop the \"text_cols\" columns so we only have numerical columns"
      ]
    },
    {
      "cell_type": "code",
      "metadata": {
        "id": "_JMDk7A5LL-a",
        "colab_type": "code",
        "colab": {
          "base_uri": "https://localhost:8080/",
          "height": 34
        },
        "outputId": "f78a089f-c0b5-432e-e6fb-a485d7f0204d"
      },
      "source": [
        "loans_0711 = pd.concat([loans_0711,dummy_df], axis=1)\n",
        "loans_0711 = loans_0711.drop(text_cols, axis=1)\n",
        "print(loans_0711.shape)"
      ],
      "execution_count": 28,
      "outputs": [
        {
          "output_type": "stream",
          "text": [
            "(39189, 38)\n"
          ],
          "name": "stdout"
        }
      ]
    },
    {
      "cell_type": "code",
      "metadata": {
        "id": "yvT7Su-8L-SN",
        "colab_type": "code",
        "colab": {
          "base_uri": "https://localhost:8080/",
          "height": 782
        },
        "outputId": "ad1c131a-36c2-441a-cbdf-bc6a09867ac8"
      },
      "source": [
        "loans_0711.info()"
      ],
      "execution_count": 29,
      "outputs": [
        {
          "output_type": "stream",
          "text": [
            "<class 'pandas.core.frame.DataFrame'>\n",
            "Int64Index: 39189 entries, 0 to 39785\n",
            "Data columns (total 38 columns):\n",
            " #   Column                               Non-Null Count  Dtype  \n",
            "---  ------                               --------------  -----  \n",
            " 0   loan_amnt                            39189 non-null  float64\n",
            " 1   int_rate                             39189 non-null  float64\n",
            " 2   installment                          39189 non-null  float64\n",
            " 3   emp_length                           39189 non-null  int64  \n",
            " 4   annual_inc                           39189 non-null  float64\n",
            " 5   loan_status                          39189 non-null  int64  \n",
            " 6   dti                                  39189 non-null  float64\n",
            " 7   delinq_2yrs                          39189 non-null  float64\n",
            " 8   inq_last_6mths                       39189 non-null  float64\n",
            " 9   open_acc                             39189 non-null  float64\n",
            " 10  pub_rec                              39189 non-null  float64\n",
            " 11  revol_bal                            39189 non-null  float64\n",
            " 12  revol_util                           39189 non-null  float64\n",
            " 13  total_acc                            39189 non-null  float64\n",
            " 14  term_ 36 months                      39189 non-null  uint8  \n",
            " 15  term_ 60 months                      39189 non-null  uint8  \n",
            " 16  home_ownership_MORTGAGE              39189 non-null  uint8  \n",
            " 17  home_ownership_NONE                  39189 non-null  uint8  \n",
            " 18  home_ownership_OTHER                 39189 non-null  uint8  \n",
            " 19  home_ownership_OWN                   39189 non-null  uint8  \n",
            " 20  home_ownership_RENT                  39189 non-null  uint8  \n",
            " 21  verification_status_Not Verified     39189 non-null  uint8  \n",
            " 22  verification_status_Source Verified  39189 non-null  uint8  \n",
            " 23  verification_status_Verified         39189 non-null  uint8  \n",
            " 24  purpose_car                          39189 non-null  uint8  \n",
            " 25  purpose_credit_card                  39189 non-null  uint8  \n",
            " 26  purpose_debt_consolidation           39189 non-null  uint8  \n",
            " 27  purpose_educational                  39189 non-null  uint8  \n",
            " 28  purpose_home_improvement             39189 non-null  uint8  \n",
            " 29  purpose_house                        39189 non-null  uint8  \n",
            " 30  purpose_major_purchase               39189 non-null  uint8  \n",
            " 31  purpose_medical                      39189 non-null  uint8  \n",
            " 32  purpose_moving                       39189 non-null  uint8  \n",
            " 33  purpose_other                        39189 non-null  uint8  \n",
            " 34  purpose_renewable_energy             39189 non-null  uint8  \n",
            " 35  purpose_small_business               39189 non-null  uint8  \n",
            " 36  purpose_vacation                     39189 non-null  uint8  \n",
            " 37  purpose_wedding                      39189 non-null  uint8  \n",
            "dtypes: float64(12), int64(2), uint8(24)\n",
            "memory usage: 5.4 MB\n"
          ],
          "name": "stdout"
        }
      ]
    },
    {
      "cell_type": "markdown",
      "metadata": {
        "id": "ouTm8B3GMfpw",
        "colab_type": "text"
      },
      "source": [
        "Now we only have numerical data in our dataset. We can start our next step, which is Machine Learning."
      ]
    },
    {
      "cell_type": "markdown",
      "metadata": {
        "id": "PXDm33inJzxC",
        "colab_type": "text"
      },
      "source": [
        "# 3. Making Predictions"
      ]
    },
    {
      "cell_type": "markdown",
      "metadata": {
        "id": "2oR2rpJtKBvD",
        "colab_type": "text"
      },
      "source": [
        "### Logistic Regression"
      ]
    },
    {
      "cell_type": "markdown",
      "metadata": {
        "id": "c1wRW7mxKU-X",
        "colab_type": "text"
      },
      "source": [
        "Let's start our modeling with Logistic Regression. Since we are dealing with binary classification, this will be a good choice. \n",
        "Logistic Regression is also quick to train, and can iterate quite quickly. It's also less prone to overfitting than other more complex models.\n",
        "\n",
        "In order for our Logistic Regression model to have a good training data, let's use **K-Fold Validation**. Keep in mind, that our dataset has six times more 1s in the target column than 0s. "
      ]
    },
    {
      "cell_type": "code",
      "metadata": {
        "id": "hXssgHNyMujb",
        "colab_type": "code",
        "colab": {}
      },
      "source": [
        "cols = loans_0711.columns.tolist()\n",
        "cols.remove(\"loan_status\")\n",
        "\n",
        "x_train = loans_0711[cols]\n",
        "y_train = loans_0711[\"loan_status\"]"
      ],
      "execution_count": 30,
      "outputs": []
    },
    {
      "cell_type": "markdown",
      "metadata": {
        "id": "k_BRwfMDLZa1",
        "colab_type": "text"
      },
      "source": [
        "**Importing required libraries.**"
      ]
    },
    {
      "cell_type": "code",
      "metadata": {
        "id": "-fELhRPlJ6KX",
        "colab_type": "code",
        "colab": {}
      },
      "source": [
        "from sklearn.linear_model import LogisticRegression\n",
        "from sklearn.model_selection import cross_val_predict"
      ],
      "execution_count": 31,
      "outputs": []
    },
    {
      "cell_type": "markdown",
      "metadata": {
        "id": "Di8t5oSPodcn",
        "colab_type": "text"
      },
      "source": [
        "**Fitting the model and making predictions**"
      ]
    },
    {
      "cell_type": "code",
      "metadata": {
        "id": "AbfV6xdwob8w",
        "colab_type": "code",
        "colab": {}
      },
      "source": [
        "lr_regressor = LogisticRegression(max_iter=200)\n",
        "predictions = cross_val_predict(lr_regressor, x_train, y_train, cv=3)"
      ],
      "execution_count": 32,
      "outputs": []
    },
    {
      "cell_type": "code",
      "metadata": {
        "id": "-nR1s-A7mOOS",
        "colab_type": "code",
        "colab": {
          "base_uri": "https://localhost:8080/",
          "height": 119
        },
        "outputId": "8e2f50d5-4f7b-4073-dd8e-215ebe3014a7"
      },
      "source": [
        "print(pd.Series(predictions).value_counts())\n",
        "print(pd.Series(predictions).value_counts(normalize=True))\n"
      ],
      "execution_count": 33,
      "outputs": [
        {
          "output_type": "stream",
          "text": [
            "1    39145\n",
            "0       44\n",
            "dtype: int64\n",
            "1    0.998877\n",
            "0    0.001123\n",
            "dtype: float64\n"
          ],
          "name": "stdout"
        }
      ]
    },
    {
      "cell_type": "markdown",
      "metadata": {
        "id": "HnvWiIM7pY3e",
        "colab_type": "text"
      },
      "source": [
        "**Error Metrics**"
      ]
    },
    {
      "cell_type": "markdown",
      "metadata": {
        "id": "ICDkx3Ftpl_j",
        "colab_type": "text"
      },
      "source": [
        "As mentioned above, there is a significant class imbalance in our dataset. To see how this plays in our predictions, let us consider the **True Positive Rate** and the **False Positive Rates** in our predicted values.\n",
        "Let's build a function for this so we can call it anytime we want."
      ]
    },
    {
      "cell_type": "code",
      "metadata": {
        "id": "T33EraDqmRC5",
        "colab_type": "code",
        "colab": {}
      },
      "source": [
        "# Takes in the predictions coming out from the cross_val_predict function.\n",
        "def true_positive_rates(predictions):\n",
        "\n",
        "  predictions = pd.Series(predictions)\n",
        "\n",
        "  # False Positives\n",
        "  fp_filter = ((predictions == 1) & (loans_0711[\"loan_status\"]== 0))\n",
        "  fp = len(predictions[fp_filter])\n",
        "  print('False Positives =', fp) \n",
        "\n",
        "  # True Positives\n",
        "  tp_filter = ((predictions == 1) & (loans_0711[\"loan_status\"]== 1))\n",
        "  tp = len(predictions[tp_filter])\n",
        "  print('True Positives =', tp) \n",
        "\n",
        "  # False Negatives\n",
        "  fn_filter = ((predictions == 0) & (loans_0711[\"loan_status\"]== 1))\n",
        "  fn = len(predictions[fn_filter])\n",
        "  print('False Negatives =', fn) \n",
        "\n",
        "  # True Negatives\n",
        "  tn_filter = ((predictions == 0) & (loans_0711[\"loan_status\"]== 0))\n",
        "  tn = len(predictions[tn_filter])\n",
        "  print('True Negatives =', tn) \n",
        "\n",
        "  print(\" \")\n",
        "  print(\"-\"*35)\n",
        "  print(\" \")\n",
        "\n",
        "  # True Positive Rate\n",
        "  tpr = tp / (tp+fn)\n",
        "  print(\"True Positive Rate =\", tpr*100)\n",
        "\n",
        "  # False Positive Rate\n",
        "  fpr = fp / (fp+tn)\n",
        "  print(\"False Positive Rate =\", fpr*100)\n",
        "\n",
        "  # Accuracy\n",
        "  accuracy = (tp + tn)/(tp + tn + fp + fn)*100\n",
        "  print(\"Accuracy =\", accuracy)\n"
      ],
      "execution_count": 34,
      "outputs": []
    },
    {
      "cell_type": "code",
      "metadata": {
        "id": "sad5kQrQAwCb",
        "colab_type": "code",
        "colab": {
          "base_uri": "https://localhost:8080/",
          "height": 187
        },
        "outputId": "8536d424-2275-49e9-e3c2-5319490353f2"
      },
      "source": [
        "predictions = true_positive_rates(predictions)"
      ],
      "execution_count": 35,
      "outputs": [
        {
          "output_type": "stream",
          "text": [
            "False Positives = 5522\n",
            "True Positives = 33026\n",
            "False Negatives = 34\n",
            "True Negatives = 10\n",
            " \n",
            "-----------------------------------\n",
            " \n",
            "True Positive Rate = 99.89715668481549\n",
            "False Positive Rate = 99.81923355025307\n",
            "Accuracy = 85.60323383084577\n"
          ],
          "name": "stdout"
        }
      ]
    },
    {
      "cell_type": "markdown",
      "metadata": {
        "id": "YuVs5BmKunaO",
        "colab_type": "text"
      },
      "source": [
        "**Tuning the Logistic Regression for a balanced class weight**"
      ]
    },
    {
      "cell_type": "markdown",
      "metadata": {
        "id": "UJgwOP6KBjzI",
        "colab_type": "text"
      },
      "source": [
        "Our model has relatively high accuracy of 85%. However, it also has a False Positive Rate of almost 100%. This can be very problematic from the Investor's viewpoint. We need to reduce the False Positive Rate if we are to make conservative investing decisions. However, it comes with a price. Usually, when you try to decrease the FPR, the TPR and accuracy tends to decrease as well. \n",
        "\n",
        "A significant reason for this model to show a high FPR and TPR  is because it has 6 times more data relating to \"Fully Paid\" than the \"Charged-off\" labels. This is a dataset limitation. One way to reduce this limitation is to penalize the classifier. Let's try the \"balanced\" penalizer on our model, which asks the algorithm to give more balanced attention to the minority predicting label as it gives for the majority. "
      ]
    },
    {
      "cell_type": "code",
      "metadata": {
        "id": "haFx-j16q7y5",
        "colab_type": "code",
        "colab": {
          "base_uri": "https://localhost:8080/",
          "height": 187
        },
        "outputId": "fb50e2da-fee8-469c-f7d1-ba74b7a237b8"
      },
      "source": [
        "lr_regressor = LogisticRegression(max_iter=200, class_weight='balanced')\n",
        "predictions = cross_val_predict(lr_regressor, x_train, y_train, cv=3)\n",
        "\n",
        "predictions = true_positive_rates(predictions)"
      ],
      "execution_count": 36,
      "outputs": [
        {
          "output_type": "stream",
          "text": [
            "False Positives = 2730\n",
            "True Positives = 16867\n",
            "False Negatives = 16193\n",
            "True Negatives = 2802\n",
            " \n",
            "-----------------------------------\n",
            " \n",
            "True Positive Rate = 51.019358741681785\n",
            "False Positive Rate = 49.34924078091106\n",
            "Accuracy = 50.9665215588723\n"
          ],
          "name": "stdout"
        }
      ]
    },
    {
      "cell_type": "markdown",
      "metadata": {
        "id": "sJHz2mgMDsnJ",
        "colab_type": "text"
      },
      "source": [
        "As we expected, both the TPR and the FPR dropped by almost half. The accuracy has also dropped. This is a trade-off that is non escapable. \n",
        "However, an investor would prefer this outcome than the previous, since his/her risk of investing in a loan that does will not be paid back is cut down in half. "
      ]
    },
    {
      "cell_type": "markdown",
      "metadata": {
        "id": "B_m9Gx6i1r0n",
        "colab_type": "text"
      },
      "source": [
        "**Tuning the Logistic Regression with a manual penalty**"
      ]
    },
    {
      "cell_type": "markdown",
      "metadata": {
        "id": "qsXtLDoTEogQ",
        "colab_type": "text"
      },
      "source": [
        "Let's see if us manually setting a penalty would improve our model."
      ]
    },
    {
      "cell_type": "code",
      "metadata": {
        "id": "4p3OKy88u41h",
        "colab_type": "code",
        "colab": {
          "base_uri": "https://localhost:8080/",
          "height": 187
        },
        "outputId": "8a6ce044-693d-4688-a413-65ab27f360b6"
      },
      "source": [
        "penalty = {0: 12, 1: 1}\n",
        "\n",
        "lr_regressor = LogisticRegression(max_iter=200, class_weight=penalty)\n",
        "predictions = cross_val_predict(lr_regressor, x_train, y_train, cv=3)\n",
        "\n",
        "predictions = true_positive_rates(predictions)"
      ],
      "execution_count": 37,
      "outputs": [
        {
          "output_type": "stream",
          "text": [
            "False Positives = 602\n",
            "True Positives = 3669\n",
            "False Negatives = 29391\n",
            "True Negatives = 4930\n",
            " \n",
            "-----------------------------------\n",
            " \n",
            "True Positive Rate = 11.098003629764065\n",
            "False Positive Rate = 10.882140274765003\n",
            "Accuracy = 22.281820066334994\n"
          ],
          "name": "stdout"
        }
      ]
    },
    {
      "cell_type": "markdown",
      "metadata": {
        "id": "aWBwpj2fFE97",
        "colab_type": "text"
      },
      "source": [
        "While FPR is now down to 10% it also brought down the TPR to the same amount. And in this model, only 22% of the predictions are correct. This is not a good model for the investors. \n",
        "\n",
        "Let's see if using a Random Forrest Classifier make any improvements on our model."
      ]
    },
    {
      "cell_type": "markdown",
      "metadata": {
        "id": "qowDncqP34bF",
        "colab_type": "text"
      },
      "source": [
        "### Random Forrest Regression"
      ]
    },
    {
      "cell_type": "code",
      "metadata": {
        "id": "6_xSWESf1BSM",
        "colab_type": "code",
        "colab": {
          "base_uri": "https://localhost:8080/",
          "height": 187
        },
        "outputId": "4914d417-6bac-4ca2-af3e-b7a7e63ee5ff"
      },
      "source": [
        "from sklearn.ensemble import RandomForestClassifier\n",
        "from sklearn.model_selection import cross_val_predict\n",
        "\n",
        "rf = RandomForestClassifier(class_weight=\"balanced\", random_state=1)\n",
        "predictions = cross_val_predict(rf, x_train, y_train, cv=3)\n",
        "predictions = true_positive_rates(predictions)"
      ],
      "execution_count": 38,
      "outputs": [
        {
          "output_type": "stream",
          "text": [
            "False Positives = 5514\n",
            "True Positives = 32968\n",
            "False Negatives = 92\n",
            "True Negatives = 18\n",
            " \n",
            "-----------------------------------\n",
            " \n",
            "True Positive Rate = 99.72171808832427\n",
            "False Positive Rate = 99.67462039045553\n",
            "Accuracy = 85.47367330016584\n"
          ],
          "name": "stdout"
        }
      ]
    },
    {
      "cell_type": "markdown",
      "metadata": {
        "id": "BrkAOFHBFvJl",
        "colab_type": "text"
      },
      "source": [
        "This is similar to our first Logistic Classifier. While it's accuracy is the highest, the chances of investing in loans that would not be paid, if invested, is almost 100%"
      ]
    },
    {
      "cell_type": "markdown",
      "metadata": {
        "id": "LBiZHPWHGDHa",
        "colab_type": "text"
      },
      "source": [
        "### Verdict"
      ]
    },
    {
      "cell_type": "code",
      "metadata": {
        "id": "yyIcxDE4GGfg",
        "colab_type": "code",
        "colab": {}
      },
      "source": [
        ""
      ],
      "execution_count": 38,
      "outputs": []
    },
    {
      "cell_type": "markdown",
      "metadata": {
        "id": "3xdE9NK6GJRa",
        "colab_type": "text"
      },
      "source": [
        "The significant class imbalance (6:1) in our dataset seems to have a big impact on our metrics and accuracies. Since this is dataset limitation, the only solutin itself is to bring in more data for the minority class.\n",
        "\n",
        "That said, we can still choose to use the Linear Regression model that gave out a 50% accuracy and a TPR and FPR close to 50% as it is the most balanced outcome we were able to get, as far as conservative investment methods are concerned. The investor may opt for the Linear Regression model with around 85% accuracy, but in the event of a bad positive prediction, he/she has a 100% chance of losing his money. "
      ]
    },
    {
      "cell_type": "markdown",
      "metadata": {
        "id": "oPjt9UOJH_nb",
        "colab_type": "text"
      },
      "source": [
        "DISCLAIMER: THIS PREDICTING MODEL IS NOT TO BE USED TO MAKE INVESTMENT DECISIONS AS IT IS DONE FOR A PERSONNAL PROJECT. \n",
        "\n",
        "\n",
        "\n",
        "Special thanks to Dataquest.io for the inspiration for this project."
      ]
    },
    {
      "cell_type": "code",
      "metadata": {
        "id": "Nles50kxIYql",
        "colab_type": "code",
        "colab": {}
      },
      "source": [
        ""
      ],
      "execution_count": 38,
      "outputs": []
    }
  ]
}